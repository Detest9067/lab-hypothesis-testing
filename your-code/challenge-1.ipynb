{
 "cells": [
  {
   "cell_type": "markdown",
   "metadata": {},
   "source": [
    "# Before your start:\n",
    "- Read the README.md file\n",
    "- Comment as much as you can and use the resources (README.md file)\n",
    "- Happy learning!"
   ]
  },
  {
   "cell_type": "code",
   "execution_count": 18,
   "metadata": {},
   "outputs": [],
   "source": [
    "# import numpy and pandas\n",
    "import numpy as np\n",
    "import pandas as pd\n",
    "import scipy.stats as stats\n",
    "from scipy.stats import t, ttest_1samp\n",
    "from statsmodels.stats.proportion import proportions_ztest\n"
   ]
  },
  {
   "cell_type": "markdown",
   "metadata": {},
   "source": [
    "# Challenge 1 - Exploring the Data\n",
    "\n",
    "In this challenge, we will examine all salaries of employees of the City of Chicago. We will start by loading the dataset and examining its contents"
   ]
  },
  {
   "cell_type": "code",
   "execution_count": 2,
   "metadata": {},
   "outputs": [],
   "source": [
    "# Run this code:\n",
    "\n",
    "salaries = pd.read_csv('../data/Current_Employee_Names__Salaries__and_Position_Titles.csv')"
   ]
  },
  {
   "cell_type": "markdown",
   "metadata": {},
   "source": [
    "Examine the `salaries` dataset using the `head` function below."
   ]
  },
  {
   "cell_type": "code",
   "execution_count": 3,
   "metadata": {},
   "outputs": [
    {
     "data": {
      "text/html": [
       "<div>\n",
       "<style scoped>\n",
       "    .dataframe tbody tr th:only-of-type {\n",
       "        vertical-align: middle;\n",
       "    }\n",
       "\n",
       "    .dataframe tbody tr th {\n",
       "        vertical-align: top;\n",
       "    }\n",
       "\n",
       "    .dataframe thead th {\n",
       "        text-align: right;\n",
       "    }\n",
       "</style>\n",
       "<table border=\"1\" class=\"dataframe\">\n",
       "  <thead>\n",
       "    <tr style=\"text-align: right;\">\n",
       "      <th></th>\n",
       "      <th>Name</th>\n",
       "      <th>Job Titles</th>\n",
       "      <th>Department</th>\n",
       "      <th>Full or Part-Time</th>\n",
       "      <th>Salary or Hourly</th>\n",
       "      <th>Typical Hours</th>\n",
       "      <th>Annual Salary</th>\n",
       "      <th>Hourly Rate</th>\n",
       "    </tr>\n",
       "  </thead>\n",
       "  <tbody>\n",
       "    <tr>\n",
       "      <th>0</th>\n",
       "      <td>AARON,  JEFFERY M</td>\n",
       "      <td>SERGEANT</td>\n",
       "      <td>POLICE</td>\n",
       "      <td>F</td>\n",
       "      <td>Salary</td>\n",
       "      <td>NaN</td>\n",
       "      <td>101442.0</td>\n",
       "      <td>NaN</td>\n",
       "    </tr>\n",
       "    <tr>\n",
       "      <th>1</th>\n",
       "      <td>AARON,  KARINA</td>\n",
       "      <td>POLICE OFFICER (ASSIGNED AS DETECTIVE)</td>\n",
       "      <td>POLICE</td>\n",
       "      <td>F</td>\n",
       "      <td>Salary</td>\n",
       "      <td>NaN</td>\n",
       "      <td>94122.0</td>\n",
       "      <td>NaN</td>\n",
       "    </tr>\n",
       "    <tr>\n",
       "      <th>2</th>\n",
       "      <td>AARON,  KIMBERLEI R</td>\n",
       "      <td>CHIEF CONTRACT EXPEDITER</td>\n",
       "      <td>GENERAL SERVICES</td>\n",
       "      <td>F</td>\n",
       "      <td>Salary</td>\n",
       "      <td>NaN</td>\n",
       "      <td>101592.0</td>\n",
       "      <td>NaN</td>\n",
       "    </tr>\n",
       "    <tr>\n",
       "      <th>3</th>\n",
       "      <td>ABAD JR,  VICENTE M</td>\n",
       "      <td>CIVIL ENGINEER IV</td>\n",
       "      <td>WATER MGMNT</td>\n",
       "      <td>F</td>\n",
       "      <td>Salary</td>\n",
       "      <td>NaN</td>\n",
       "      <td>110064.0</td>\n",
       "      <td>NaN</td>\n",
       "    </tr>\n",
       "    <tr>\n",
       "      <th>4</th>\n",
       "      <td>ABASCAL,  REECE E</td>\n",
       "      <td>TRAFFIC CONTROL AIDE-HOURLY</td>\n",
       "      <td>OEMC</td>\n",
       "      <td>P</td>\n",
       "      <td>Hourly</td>\n",
       "      <td>20.0</td>\n",
       "      <td>NaN</td>\n",
       "      <td>19.86</td>\n",
       "    </tr>\n",
       "  </tbody>\n",
       "</table>\n",
       "</div>"
      ],
      "text/plain": [
       "                  Name                              Job Titles  \\\n",
       "0    AARON,  JEFFERY M                                SERGEANT   \n",
       "1      AARON,  KARINA   POLICE OFFICER (ASSIGNED AS DETECTIVE)   \n",
       "2  AARON,  KIMBERLEI R                CHIEF CONTRACT EXPEDITER   \n",
       "3  ABAD JR,  VICENTE M                       CIVIL ENGINEER IV   \n",
       "4    ABASCAL,  REECE E             TRAFFIC CONTROL AIDE-HOURLY   \n",
       "\n",
       "         Department Full or Part-Time Salary or Hourly  Typical Hours  \\\n",
       "0            POLICE                 F           Salary            NaN   \n",
       "1            POLICE                 F           Salary            NaN   \n",
       "2  GENERAL SERVICES                 F           Salary            NaN   \n",
       "3       WATER MGMNT                 F           Salary            NaN   \n",
       "4              OEMC                 P           Hourly           20.0   \n",
       "\n",
       "   Annual Salary  Hourly Rate  \n",
       "0       101442.0          NaN  \n",
       "1        94122.0          NaN  \n",
       "2       101592.0          NaN  \n",
       "3       110064.0          NaN  \n",
       "4            NaN        19.86  "
      ]
     },
     "execution_count": 3,
     "metadata": {},
     "output_type": "execute_result"
    }
   ],
   "source": [
    "# Your code here:\n",
    "salaries.head()"
   ]
  },
  {
   "cell_type": "markdown",
   "metadata": {},
   "source": [
    "We see from looking at the `head` function that there is quite a bit of missing data. Let's examine how much missing data is in each column. Produce this output in the cell below"
   ]
  },
  {
   "cell_type": "code",
   "execution_count": 4,
   "metadata": {},
   "outputs": [
    {
     "data": {
      "text/plain": [
       "Name                     0\n",
       "Job Titles               0\n",
       "Department               0\n",
       "Full or Part-Time        0\n",
       "Salary or Hourly         0\n",
       "Typical Hours        25161\n",
       "Annual Salary         8022\n",
       "Hourly Rate          25161\n",
       "dtype: int64"
      ]
     },
     "execution_count": 4,
     "metadata": {},
     "output_type": "execute_result"
    }
   ],
   "source": [
    "# Your code here:\n",
    "missing_values = salaries.isnull().sum()\n",
    "missing_values"
   ]
  },
  {
   "cell_type": "markdown",
   "metadata": {},
   "source": [
    "Let's also look at the count of hourly vs. salaried employees. Write the code in the cell below"
   ]
  },
  {
   "cell_type": "code",
   "execution_count": 5,
   "metadata": {},
   "outputs": [
    {
     "data": {
      "text/plain": [
       "Salary    25161\n",
       "Hourly     8022\n",
       "Name: Salary or Hourly, dtype: int64"
      ]
     },
     "execution_count": 5,
     "metadata": {},
     "output_type": "execute_result"
    }
   ],
   "source": [
    "# Your code here:\n",
    "employee_counts = salaries['Salary or Hourly'].value_counts()\n",
    "employee_counts"
   ]
  },
  {
   "cell_type": "markdown",
   "metadata": {},
   "source": [
    "What this information indicates is that the table contains information about two types of employees - salaried and hourly. Some columns apply only to one type of employee while other columns only apply to another kind. This is why there are so many missing values. Therefore, we will not do anything to handle the missing values."
   ]
  },
  {
   "cell_type": "markdown",
   "metadata": {},
   "source": [
    "There are different departments in the city. List all departments and the count of employees in each department."
   ]
  },
  {
   "cell_type": "code",
   "execution_count": 6,
   "metadata": {},
   "outputs": [],
   "source": [
    "employee_counts_df = salaries['Department'].value_counts().to_frame().reset_index()\n",
    "\n",
    "# Rename the columns\n",
    "employee_counts_df.columns = ['Department', 'Employee Count']\n",
    "\n"
   ]
  },
  {
   "cell_type": "markdown",
   "metadata": {},
   "source": [
    "# Challenge 2 - Hypothesis Tests\n",
    "\n",
    "In this section of the lab, we will test whether the hourly wage of all hourly workers is significantly different from $30/hr. Import the correct one sample test function from scipy and perform the hypothesis test for a 95% two sided confidence interval."
   ]
  },
  {
   "cell_type": "code",
   "execution_count": 7,
   "metadata": {},
   "outputs": [
    {
     "name": "stdout",
     "output_type": "stream",
     "text": [
      "t-statistic: 20.6198057854942\n",
      "p-value: 4.3230240486229894e-92\n",
      "95% confidence interval: (32.52345834488425, 33.05365708767623)\n"
     ]
    }
   ],
   "source": [
    "\n",
    "# Extract the hourly wage column for hourly workers\n",
    "hourly_wages = salaries.loc[salaries['Salary or Hourly'] == 'Hourly', 'Hourly Rate']\n",
    "\n",
    "# Perform one-sample t-test\n",
    "t_stat, p_val = ttest_1samp(hourly_wages, 30)\n",
    "\n",
    "# Compute the confidence interval\n",
    "alpha = 0.05\n",
    "n = len(hourly_wages)\n",
    "df = n - 1\n",
    "t_crit = abs(t.ppf(alpha/2, df))\n",
    "stderr = hourly_wages.std() / np.sqrt(n)\n",
    "margin_err = t_crit * stderr\n",
    "ci_lower = hourly_wages.mean() - margin_err\n",
    "ci_upper = hourly_wages.mean() + margin_err\n",
    "\n",
    "# Print the results\n",
    "print('t-statistic:', t_stat)\n",
    "print('p-value:', p_val)\n",
    "print('95% confidence interval:', (ci_lower, ci_upper))\n"
   ]
  },
  {
   "cell_type": "markdown",
   "metadata": {},
   "source": [
    "We are also curious about salaries in the police force. The chief of police in Chicago claimed in a press briefing that salaries this year are higher than last year's mean of $86000/year a year for all salaried employees. Test this one sided hypothesis using a 95% confidence interval.\n",
    "\n",
    "Hint: A one tailed test has a p-value that is half of the two tailed p-value. If our hypothesis is greater than, then to reject, the test statistic must also be positive."
   ]
  },
  {
   "cell_type": "code",
   "execution_count": 8,
   "metadata": {},
   "outputs": [
    {
     "name": "stdout",
     "output_type": "stream",
     "text": [
      "t-statistic: 3.081997005712994\n",
      "p-value: 0.0005150850887741284\n",
      "95% confidence interval: (86226.79842892641, 86746.03057734037)\n"
     ]
    }
   ],
   "source": [
    "# Extract the salary column for police officers\n",
    "police_salaries = salaries.loc[(salaries['Department'] == 'POLICE') & (salaries['Salary or Hourly'] == 'Salary'), 'Annual Salary']\n",
    "\n",
    "# Perform one-sample t-test\n",
    "t_stat, p_val = ttest_1samp(police_salaries, 86000, alternative='greater')\n",
    "\n",
    "# Compute the 95% confidence interval\n",
    "alpha = 0.05\n",
    "n = len(police_salaries)\n",
    "df = n - 1\n",
    "t_crit = t.ppf(1 - alpha, df)\n",
    "stderr = police_salaries.std() / np.sqrt(n)\n",
    "margin_err = t_crit * stderr\n",
    "ci_lower = police_salaries.mean() - margin_err\n",
    "ci_upper = police_salaries.mean() + margin_err\n",
    "\n",
    "# Print the results\n",
    "print('t-statistic:', t_stat)\n",
    "print('p-value:', p_val/2) # divide by 2 for a one-sided test\n",
    "print('95% confidence interval:', (ci_lower, ci_upper))\n"
   ]
  },
  {
   "cell_type": "markdown",
   "metadata": {},
   "source": [
    "Using the `crosstab` function, find the department that has the most hourly workers. "
   ]
  },
  {
   "cell_type": "code",
   "execution_count": 9,
   "metadata": {},
   "outputs": [
    {
     "name": "stdout",
     "output_type": "stream",
     "text": [
      "The department with the most hourly workers is STREETS & SAN\n"
     ]
    }
   ],
   "source": [
    "# Create a contingency table of department and employment status\n",
    "dept_emp_table = pd.crosstab(salaries['Department'], salaries['Salary or Hourly'])\n",
    "\n",
    "# Extract the hourly worker counts for each department\n",
    "hourly_counts = dept_emp_table['Hourly']\n",
    "\n",
    "# Find the department with the most hourly workers\n",
    "most_hourly_dept = hourly_counts.idxmax()\n",
    "\n",
    "# Print the result\n",
    "print(\"The department with the most hourly workers is\", most_hourly_dept)\n"
   ]
  },
  {
   "cell_type": "markdown",
   "metadata": {},
   "source": [
    "The workers from the department with the most hourly workers have complained that their hourly wage is less than $35/hour. Using a one sample t-test, test this one-sided hypothesis at the 95% confidence level."
   ]
  },
  {
   "cell_type": "code",
   "execution_count": 10,
   "metadata": {},
   "outputs": [
    {
     "name": "stdout",
     "output_type": "stream",
     "text": [
      "Reject the null hypothesis. The hourly wage is less than $35/hour.\n"
     ]
    }
   ],
   "source": [
    "dept_emp_table = pd.crosstab(salaries['Department'], salaries['Salary or Hourly'])\n",
    "most_hourly_dept = dept_emp_table['Hourly'].idxmax()\n",
    "hourly_wages = salaries.loc[(salaries['Department'] == most_hourly_dept) & (salaries['Salary or Hourly'] == 'Hourly'), 'Hourly Rate']\n",
    "null_hypothesis = 35\n",
    "\n",
    "# Calculate the t-value and p-value of the one-sided t-test\n",
    "t_stat, p_val = ttest_1samp(hourly_wages, null_hypothesis)\n",
    "alpha = 0.05\n",
    "if p_val/2 < alpha and t_stat < 0:\n",
    "    print(\"Reject the null hypothesis. The hourly wage is less than $35/hour.\")\n",
    "else:\n",
    "    print(\"Do not reject the null hypothesis. The hourly wage is not less than $35/hour.\")\n"
   ]
  },
  {
   "cell_type": "markdown",
   "metadata": {},
   "source": [
    "# Challenge 3 - Constructing Confidence Intervals\n",
    "\n",
    "While testing our hypothesis is a great way to gather empirical evidence for accepting or rejecting the hypothesis, another way to gather evidence is by creating a confidence interval. A confidence interval gives us information about the true mean of the population. So for a 95% confidence interval, we are 95% sure that the mean of the population is within the confidence interval. \n",
    ").\n",
    "\n",
    "To read more about confidence intervals, click [here](https://en.wikipedia.org/wiki/Confidence_interval).\n",
    "\n",
    "\n",
    "In the cell below, we will construct a 95% confidence interval for the mean hourly wage of all hourly workers. \n",
    "\n",
    "The confidence interval is computed in SciPy using the `t.interval` function. You can read more about this function [here](https://docs.scipy.org/doc/scipy-0.14.0/reference/generated/scipy.stats.t.html).\n",
    "\n",
    "To compute the confidence interval of the hourly wage, use the 0.95 for the confidence level, number of rows - 1 for degrees of freedom, the mean of the sample for the location parameter and the standard error for the scale. The standard error can be computed using [this](https://docs.scipy.org/doc/scipy/reference/generated/scipy.stats.sem.html) function in SciPy."
   ]
  },
  {
   "cell_type": "code",
   "execution_count": 11,
   "metadata": {},
   "outputs": [
    {
     "name": "stdout",
     "output_type": "stream",
     "text": [
      "Hourly wage confidence interval (95%): (33.47, 33.99)\n"
     ]
    }
   ],
   "source": [
    "# calculate sample mean and standard error\n",
    "mean = hourly_wages.mean()\n",
    "std_err = hourly_wages.std() / np.sqrt(len(hourly_wages))\n",
    "\n",
    "# set confidence level and degrees of freedom\n",
    "alpha = 0.05\n",
    "df = len(hourly_wages) - 1\n",
    "\n",
    "# calculate t-value for given confidence level and degrees of freedom\n",
    "t = stats.t.ppf(1 - alpha/2, df)\n",
    "\n",
    "# calculate lower and upper bounds of confidence interval\n",
    "lower_bound = mean - t * std_err\n",
    "upper_bound = mean + t * std_err\n",
    "\n",
    "# print results\n",
    "print(f\"Hourly wage confidence interval (95%): ({lower_bound:.2f}, {upper_bound:.2f})\")\n"
   ]
  },
  {
   "cell_type": "markdown",
   "metadata": {},
   "source": [
    "Now construct the 95% confidence interval for all salaried employeed in the police in the cell below."
   ]
  },
  {
   "cell_type": "code",
   "execution_count": 16,
   "metadata": {},
   "outputs": [
    {
     "name": "stdout",
     "output_type": "stream",
     "text": [
      "The 95% confidence interval for all salaried employees in the police department is (86177.06, 86795.77)\n"
     ]
    }
   ],
   "source": [
    "# Filter the dataset to include only salaried employees in the police department\n",
    "police_salaries_interval = salaries[(salaries['Department'] == 'POLICE') & (salaries['Salary or Hourly'] == 'Salary')]\n",
    "\n",
    "# Calculate the mean and standard error of their salaries\n",
    "mean_salary = police_salaries_interval['Annual Salary'].mean()\n",
    "std_error = stats.sem(police_salaries_interval['Annual Salary'])\n",
    "\n",
    "# Calculate the t-value and margin of error for the confidence interval\n",
    "alpha = 0.05\n",
    "n = len(police_salaries_interval)\n",
    "df = n - 1\n",
    "t_dist = t(df)\n",
    "t_crit_value = abs(t_dist.ppf(alpha/2))\n",
    "margin_err = t_crit_value * std_error\n",
    "\n",
    "# Construct the confidence interval\n",
    "lower_bound = mean_salary - margin_err\n",
    "upper_bound = mean_salary + margin_err\n",
    "\n",
    "print(f\"The 95% confidence interval for all salaried employees in the police department is ({lower_bound:.2f}, {upper_bound:.2f})\")\n"
   ]
  },
  {
   "cell_type": "markdown",
   "metadata": {},
   "source": [
    "# Challenge 4 - Hypothesis Tests of Proportions\n",
    "\n",
    "Another type of one sample test is a hypothesis test of proportions. In this test, we examine whether the proportion of a group in our sample is significantly different than a fraction. \n",
    "\n",
    "You can read more about one sample proportion tests [here](http://sphweb.bumc.bu.edu/otlt/MPH-Modules/BS/SAS/SAS6-CategoricalData/SAS6-CategoricalData2.html).\n",
    "\n",
    "In the cell below, use the `proportions_ztest` function from `statsmodels` to perform a hypothesis test that will determine whether the number of hourly workers in the City of Chicago is significantly different from 25% at the 95% confidence level."
   ]
  },
  {
   "cell_type": "code",
   "execution_count": 17,
   "metadata": {},
   "outputs": [
    {
     "name": "stdout",
     "output_type": "stream",
     "text": [
      "Reject null hypothesis\n"
     ]
    }
   ],
   "source": [
    "# Your code here:\n",
    "\n",
    "# Calculate the number of hourly and salaried workers\n",
    "n_hourly = salaries['Salary or Hourly'].value_counts()['Hourly']\n",
    "n_salaried = salaries['Salary or Hourly'].value_counts()['Salary']\n",
    "\n",
    "# Set the null hypothesis proportion\n",
    "null_prop = 0.25\n",
    "\n",
    "# Calculate the sample proportion of hourly workers\n",
    "sample_prop = n_hourly / (n_hourly + n_salaried)\n",
    "\n",
    "# Perform the hypothesis test\n",
    "stat, pval = proportions_ztest(count=n_hourly, nobs=n_hourly + n_salaried, value=null_prop)\n",
    "\n",
    "# Check if the p-value is less than the significance level (0.05)\n",
    "if pval < 0.05:\n",
    "    print(\"Reject null hypothesis\")\n",
    "else:\n",
    "    print(\"Fail to reject null hypothesis\")\n"
   ]
  },
  {
   "cell_type": "code",
   "execution_count": null,
   "metadata": {},
   "outputs": [],
   "source": []
  }
 ],
 "metadata": {
  "kernelspec": {
   "display_name": "Python 3 (ipykernel)",
   "language": "python",
   "name": "python3"
  },
  "language_info": {
   "codemirror_mode": {
    "name": "ipython",
    "version": 3
   },
   "file_extension": ".py",
   "mimetype": "text/x-python",
   "name": "python",
   "nbconvert_exporter": "python",
   "pygments_lexer": "ipython3",
   "version": "3.10.4"
  },
  "toc": {
   "base_numbering": 1,
   "nav_menu": {},
   "number_sections": true,
   "sideBar": true,
   "skip_h1_title": false,
   "title_cell": "Table of Contents",
   "title_sidebar": "Contents",
   "toc_cell": false,
   "toc_position": {},
   "toc_section_display": true,
   "toc_window_display": true
  }
 },
 "nbformat": 4,
 "nbformat_minor": 4
}
